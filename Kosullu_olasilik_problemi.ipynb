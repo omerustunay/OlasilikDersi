{
  "nbformat": 4,
  "nbformat_minor": 0,
  "metadata": {
    "colab": {
      "name": "Kosullu_olasilik_problemi.ipynb",
      "provenance": [],
      "authorship_tag": "ABX9TyNzR7WWngw/xjk1CQ45/OEA",
      "include_colab_link": true
    },
    "kernelspec": {
      "name": "python3",
      "display_name": "Python 3"
    },
    "language_info": {
      "name": "python"
    }
  },
  "cells": [
    {
      "cell_type": "markdown",
      "metadata": {
        "id": "view-in-github",
        "colab_type": "text"
      },
      "source": [
        "<a href=\"https://colab.research.google.com/github/omerustunay/OlasilikDersi/blob/main/Kosullu_olasilik_problemi.ipynb\" target=\"_parent\"><img src=\"https://colab.research.google.com/assets/colab-badge.svg\" alt=\"Open In Colab\"/></a>"
      ]
    },
    {
      "cell_type": "markdown",
      "metadata": {
        "id": "t2WlgJpjm3Cz"
      },
      "source": [
        "**Kosullu Olasılık Problemi**\n",
        "\n",
        "\n",
        "Yagmurlu gunlerin %50 sinin bulutlu bir günele başladıgı bilinmektedir. Günlerin %40 ı bulutlu başlamaktadır. Bir günün yagmurlu gün olma olasılığı %10 dur. Buna göre bulutlu başlanan bir günde yagmur görülme olasılıgı nedir?\n",
        "\n",
        "\n",
        "\n",
        "\n",
        "P(B) : Bulutlu olma olasılığı\n",
        "\n",
        "P(Y) : Yagmurlu olma olasılığı\n",
        "\n",
        "P(B\\Y) : Yagmurlu gunun bulutlu başlama olasılığı\n",
        "\n",
        "P(B) = 0,40\n",
        "\n",
        "P(Y) = 0,10\n",
        "\n",
        "P(B\\Y) = 0,50\n",
        "\n",
        "P(Y\\B) = ?\n",
        "\n",
        "P(Y\\B)= (P(Y) * P (B\\Y)) / P(B)\n",
        "\n",
        "P(Y\\B) = (0,10*0,50)/0,40 = 1/8\n",
        "\n",
        "\n"
      ]
    },
    {
      "cell_type": "code",
      "metadata": {
        "colab": {
          "base_uri": "https://localhost:8080/"
        },
        "id": "NcID24ZbYr4m",
        "outputId": "29911ffd-f969-406f-b647-e8ca6bedbcff"
      },
      "source": [
        "bData = 40/100\n",
        "yData = 10/100\n",
        "\n",
        "byData = 50/100\n",
        "\n",
        "sonucA = (yData * byData) / bData \n",
        "\n",
        "print(\"bulutlu başlanan bir günde yagmur yagma olasılıgı:\",format(sonucA, '.3f'))"
      ],
      "execution_count": 3,
      "outputs": [
        {
          "output_type": "stream",
          "text": [
            "bulutlu başlanan bir günde yagmur yagma olasılıgı: 0.125\n"
          ],
          "name": "stdout"
        }
      ]
    }
  ]
}