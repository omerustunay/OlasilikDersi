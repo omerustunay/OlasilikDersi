{
  "nbformat": 4,
  "nbformat_minor": 0,
  "metadata": {
    "colab": {
      "name": "pmf.ipynb",
      "provenance": [],
      "authorship_tag": "ABX9TyNiF1wqHJI/d7L0T9JxAdbr",
      "include_colab_link": true
    },
    "kernelspec": {
      "name": "python3",
      "display_name": "Python 3"
    },
    "language_info": {
      "name": "python"
    }
  },
  "cells": [
    {
      "cell_type": "markdown",
      "metadata": {
        "id": "view-in-github",
        "colab_type": "text"
      },
      "source": [
        "<a href=\"https://colab.research.google.com/github/omerustunay/OlasilikDersi/blob/main/pmf.ipynb\" target=\"_parent\"><img src=\"https://colab.research.google.com/assets/colab-badge.svg\" alt=\"Open In Colab\"/></a>"
      ]
    },
    {
      "cell_type": "markdown",
      "metadata": {
        "id": "erWwCLc5sPJ7"
      },
      "source": [
        "**Probability Mass Function(PMF) - Olasılık Kütle Fonksiyonu**\n",
        "\n",
        "F(x)=4x^4 ,\n",
        "\n",
        "x = 1, 2, 3, 4 ; \n",
        "\n",
        "şeklinde tanımlanmış kesikli olasılık için P(1), P(2), P(3), P(4) hesaplayınız.\n",
        "\n",
        "Olasılık toplamı = [4 + 64 + 324 + 1024] = 1416\n",
        "\n",
        "P(x = 1) = 4 / 1416\n",
        "\n",
        "P(x = 2) = 64 / 1416\n",
        "\n",
        "P(x = 3) = 324 / 1416\n",
        "\n",
        "P(x = 4) = 1024 / 1416\n",
        "\n",
        "\n",
        "**KOD :**\n"
      ]
    },
    {
      "cell_type": "code",
      "metadata": {
        "colab": {
          "base_uri": "https://localhost:8080/",
          "height": 332
        },
        "id": "Z1ohy4M_r7Hz",
        "outputId": "05ced72d-ad4c-41c6-ef02-72583f5fe619"
      },
      "source": [
        "import numpy as np\n",
        "import matplotlib.pyplot as plt\n",
        "\n",
        "list = [1,2,3,4]\n",
        "num_throws = 5\n",
        "results = np.zeros(num_throws)\n",
        "total = 0\n",
        "for i in list:\n",
        "  total = total + (4*i*i*i*i)\n",
        "  results[i]=(4*i*i*i*i)\n",
        "\n",
        "results = [x/total for x in results]\n",
        "results.pop(0)\n",
        "print(\"sonuclar: \", results)\n",
        "\n",
        "\n",
        "fig = plt.figure()\n",
        "ax = plt.axes()\n",
        "plt.bar(list, results)\n",
        "plt.legend()\n",
        "plt.title(\"pmf grafik\")\n"
      ],
      "execution_count": 91,
      "outputs": [
        {
          "output_type": "stream",
          "text": [
            "No handles with labels found to put in legend.\n"
          ],
          "name": "stderr"
        },
        {
          "output_type": "stream",
          "text": [
            "sonuclar:  [0.002824858757062147, 0.04519774011299435, 0.2288135593220339, 0.7231638418079096]\n"
          ],
          "name": "stdout"
        },
        {
          "output_type": "execute_result",
          "data": {
            "text/plain": [
              "Text(0.5, 1.0, 'pmf grafik')"
            ]
          },
          "metadata": {
            "tags": []
          },
          "execution_count": 91
        },
        {
          "output_type": "display_data",
          "data": {
            "image/png": "[encoded data removed]",
            "text/plain": [
              "<Figure size 432x288 with 1 Axes>"
            ]
          },
          "metadata": {
            "tags": [],
            "needs_background": "light"
          }
        }
      ]
    }
  ]
}