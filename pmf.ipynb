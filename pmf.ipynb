{
  "nbformat": 4,
  "nbformat_minor": 0,
  "metadata": {
    "colab": {
      "name": "pmf.ipynb",
      "provenance": [],
      "authorship_tag": "ABX9TyOf9PABmeUM9mMx3BWra0Qo",
      "include_colab_link": true
    },
    "kernelspec": {
      "name": "python3",
      "display_name": "Python 3"
    },
    "language_info": {
      "name": "python"
    }
  },
  "cells": [
    {
      "cell_type": "markdown",
      "metadata": {
        "id": "view-in-github",
        "colab_type": "text"
      },
      "source": [
        "<a href=\"https://colab.research.google.com/github/omerustunay/OlasilikDersi/blob/main/pmf.ipynb\" target=\"_parent\"><img src=\"https://colab.research.google.com/assets/colab-badge.svg\" alt=\"Open In Colab\"/></a>"
      ]
    },
    {
      "cell_type": "markdown",
      "metadata": {
        "id": "erWwCLc5sPJ7"
      },
      "source": [
        "**Probability Mass Function(PMF) - Olasılık Kütle Fonksiyonu**\n",
        "\n",
        "F(x)=4x^4 ,\n",
        "\n",
        "x = 1, 2, 3, 4 ; \n",
        "\n",
        "şeklinde tanımlanmış kesikli olasılık için P(1), P(2), P(3), P(4) hesaplayınız.\n",
        "\n",
        "Olasılık toplamı = [4 + 64 + 324 + 1024] = 1416\n",
        "\n",
        "P(x = 1) = 4 / 1416\n",
        "\n",
        "P(x = 2) = 64 / 1416\n",
        "\n",
        "P(x = 3) = 324 / 1416\n",
        "\n",
        "P(x = 4) = 1024 / 1416\n",
        "\n",
        "\n",
        "**KOD :**\n"
      ]
    },
    {
      "cell_type": "code",
      "metadata": {
        "colab": {
          "base_uri": "https://localhost:8080/"
        },
        "id": "Z1ohy4M_r7Hz",
        "outputId": "489dd041-5ad8-4e61-8c74-c0174f1d2249"
      },
      "source": [
        "import numpy as np\n",
        "import matplotlib.pyplot as plt\n",
        "\n",
        "list = [1,2,3,4]\n",
        "  \n",
        "pList = []\n",
        "\n",
        "num_throws = 5\n",
        "sonuclar = np.zeros(num_throws)\n",
        "\n",
        "total = 0\n",
        "\n",
        "for i in list:\n",
        "  total = total + (4*i*i*i*i)\n",
        "  sonuclar[i]=(4*i*i*i*i)\n",
        "\n",
        "sonuclar = [x/total for x in sonuclar]\n",
        "sonuclar.pop(0)\n",
        "print(\"sonuclar: \", sonuclar)\n",
        "\n",
        "val, cnt = np.unique(sonuclar, return_counts=True)\n",
        "prop = cnt / len(sonuclar)\n",
        "\n"
      ],
      "execution_count": 80,
      "outputs": [
        {
          "output_type": "stream",
          "text": [
            "sonuclar:  [0.002824858757062147, 0.04519774011299435, 0.2288135593220339, 0.7231638418079096]\n"
          ],
          "name": "stdout"
        }
      ]
    }
  ]
}